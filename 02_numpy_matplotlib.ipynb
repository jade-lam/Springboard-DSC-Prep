{
  "nbformat": 4,
  "nbformat_minor": 0,
  "metadata": {
    "kernelspec": {
      "display_name": "Python 3",
      "language": "python",
      "name": "python3"
    },
    "language_info": {
      "codemirror_mode": {
        "name": "ipython",
        "version": 3
      },
      "file_extension": ".py",
      "mimetype": "text/x-python",
      "name": "python",
      "nbconvert_exporter": "python",
      "pygments_lexer": "ipython3",
      "version": "3.6.5"
    },
    "colab": {
      "name": "02_numpy_matplotlib.ipynb",
      "provenance": [],
      "include_colab_link": true
    }
  },
  "cells": [
    {
      "cell_type": "markdown",
      "metadata": {
        "id": "view-in-github",
        "colab_type": "text"
      },
      "source": [
        "<a href=\"https://colab.research.google.com/github/jade-lam/Springboard-DSC/blob/master/02_numpy_matplotlib.ipynb\" target=\"_parent\"><img src=\"https://colab.research.google.com/assets/colab-badge.svg\" alt=\"Open In Colab\"/></a>"
      ]
    },
    {
      "cell_type": "markdown",
      "metadata": {
        "id": "eiiJA1gT_uJ2",
        "colab_type": "text"
      },
      "source": [
        "# Introduction to numpy and matplotlib\n",
        "You should already be familiar with the standard python types such as lists and dictionaries.\n",
        "In this notebook we will demonstrate how numpy provides arrays (matrices) and convenient ways to perform operations on them."
      ]
    },
    {
      "cell_type": "markdown",
      "metadata": {
        "id": "flhEo1J__uJ3",
        "colab_type": "text"
      },
      "source": [
        "Recall the equation for a straight line $y = mx+c$, where $m$ denotes the slope and $c$ the intercept. Note, as you come to encounter linear regression, where $m$ and $c$ are unknown parameters to be determined from data, you will see $m$ typically replaced with $\\beta_1$ and $c$ with $\\beta_0$, where $\\beta_i$ denotes a parameter to be determined. Thus the straight line formula will be written $y = \\beta_1x + \\beta_0$ or $y = \\beta_0 + \\beta_1x$. These two forms, of course, being mathematically equivalent."
      ]
    },
    {
      "cell_type": "markdown",
      "metadata": {
        "id": "_h5udGQO_uJ3",
        "colab_type": "text"
      },
      "source": [
        "The basic task we set ourselves here is to take an input sequence of numbers (multiple $x$ values) and create an output sequence (multiple $y$ values). We'll take the desired slope of the line to be 5 and the intercept -1."
      ]
    },
    {
      "cell_type": "code",
      "metadata": {
        "id": "Pw4wSp-E_uJ4",
        "colab_type": "code",
        "colab": {}
      },
      "source": [
        "m = 5\n",
        "c = -1\n",
        "x = [0, 1, 2, 3, 4, 5, 6]"
      ],
      "execution_count": 20,
      "outputs": []
    },
    {
      "cell_type": "markdown",
      "metadata": {
        "id": "5HVZoV_H_uJ7",
        "colab_type": "text"
      },
      "source": [
        "Here we hold our multiple $x$ values in a python list."
      ]
    },
    {
      "cell_type": "code",
      "metadata": {
        "id": "nH9lpEaB_uJ7",
        "colab_type": "code",
        "colab": {}
      },
      "source": [
        "# task: use a list comprehension to create the output y values\n",
        "# note how we can't simply write y = m*x + c\n",
        "# one line of code here:\n",
        "y = [m*i + c for i in x ]"
      ],
      "execution_count": 21,
      "outputs": []
    },
    {
      "cell_type": "code",
      "metadata": {
        "id": "mlQjTVJE_uJ-",
        "colab_type": "code",
        "colab": {
          "base_uri": "https://localhost:8080/",
          "height": 35
        },
        "outputId": "383b2eff-00d0-4d24-c31f-317e2608750b"
      },
      "source": [
        "print(y)"
      ],
      "execution_count": 22,
      "outputs": [
        {
          "output_type": "stream",
          "text": [
            "[-1, 4, 9, 14, 19, 24, 29]\n"
          ],
          "name": "stdout"
        }
      ]
    },
    {
      "cell_type": "markdown",
      "metadata": {
        "id": "gd1PfX5v_uKA",
        "colab_type": "text"
      },
      "source": [
        "Although list comprehensions are very \"pythonic\", they are more cumbersome than we'd like for performing lots of numeric, or matrix, operations."
      ]
    },
    {
      "cell_type": "markdown",
      "metadata": {
        "id": "VNRR0Uwc_uKB",
        "colab_type": "text"
      },
      "source": [
        "## numpy\n",
        "Let's now perform the above using numpy."
      ]
    },
    {
      "cell_type": "code",
      "metadata": {
        "id": "Ti2LD-FH_uKC",
        "colab_type": "code",
        "colab": {}
      },
      "source": [
        "# task: import numpy\n",
        "# one line of code here:\n",
        "import numpy as np"
      ],
      "execution_count": 23,
      "outputs": []
    },
    {
      "cell_type": "code",
      "metadata": {
        "id": "DhO_6E4e_uKF",
        "colab_type": "code",
        "colab": {}
      },
      "source": [
        "X = np.array(x)\n",
        "Y = m*X + c"
      ],
      "execution_count": 24,
      "outputs": []
    },
    {
      "cell_type": "code",
      "metadata": {
        "id": "UYqMHn4m_uKH",
        "colab_type": "code",
        "colab": {
          "base_uri": "https://localhost:8080/",
          "height": 35
        },
        "outputId": "85ec6169-d4e6-4b0c-9b3e-b8f572e7bd4d"
      },
      "source": [
        "print(Y)"
      ],
      "execution_count": 25,
      "outputs": [
        {
          "output_type": "stream",
          "text": [
            "[-1  4  9 14 19 24 29]\n"
          ],
          "name": "stdout"
        }
      ]
    },
    {
      "cell_type": "markdown",
      "metadata": {
        "id": "QrNit4zZ_uKJ",
        "colab_type": "text"
      },
      "source": [
        "Notice how we can now write the code in a much more mathematical way."
      ]
    },
    {
      "cell_type": "markdown",
      "metadata": {
        "id": "KN92onGP_uKK",
        "colab_type": "text"
      },
      "source": [
        "## matplotlib\n",
        "Now we have our matching input and output values, X and Y, wouldn't it be nice to see them in a graph. Although the plot function is very useful for sequences, in our case here we have a sequence of points that all lie on a straight line. This means it will be impossible in a plain line plot to tell whether there is one straight line between two endpoints, or a series of points. It can be more informative to show the individual points, and so here we will use a scatter plot rather than a line plot."
      ]
    },
    {
      "cell_type": "code",
      "metadata": {
        "id": "orAZY_bZ_uKK",
        "colab_type": "code",
        "colab": {}
      },
      "source": [
        "import matplotlib.pyplot as plt"
      ],
      "execution_count": 26,
      "outputs": []
    },
    {
      "cell_type": "code",
      "metadata": {
        "id": "LGAwLt1p_uKM",
        "colab_type": "code",
        "colab": {
          "base_uri": "https://localhost:8080/",
          "height": 283
        },
        "outputId": "b3676660-6c3e-405e-bf01-0ed226386c4f"
      },
      "source": [
        "# task: create a scatter plot of X and Y\n",
        "# Hint: either refer to matplotlib documentation or, after importing pyplot, use Jupyter's autocompletion\n",
        "# suggestions to find the relevant scatter plot function\n",
        "# one line of code here:\n",
        "plt.scatter(X, Y)"
      ],
      "execution_count": 27,
      "outputs": [
        {
          "output_type": "execute_result",
          "data": {
            "text/plain": [
              "<matplotlib.collections.PathCollection at 0x7fde93ddf400>"
            ]
          },
          "metadata": {
            "tags": []
          },
          "execution_count": 27
        },
        {
          "output_type": "display_data",
          "data": {
            "image/png": "[encoded data removed]",
            "text/plain": [
              "<Figure size 432x288 with 1 Axes>"
            ]
          },
          "metadata": {
            "tags": [],
            "needs_background": "light"
          }
        }
      ]
    },
    {
      "cell_type": "markdown",
      "metadata": {
        "id": "vf6eHW-g_uKO",
        "colab_type": "text"
      },
      "source": [
        "# Conclusion\n",
        "Great! In these few simple examples, you've already come a long way. You're using a notebook to develop a sequence of data manipulations, which can include descriptive, formatted text. Although we won't be using numpy directly in this short course, we've seen how it provides data types and operations that allow us to succinctly perform data operations. This kind of convenience and succinctness is what makes python and its ecosystem a great choice for data science. Pandas, which we'll come to shortly, is built on top of numpy. We've also seen how we can add visualizations of our data to our notebook."
      ]
    }
  ]
}