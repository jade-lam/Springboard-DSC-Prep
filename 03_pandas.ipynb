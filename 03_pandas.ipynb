{
  "nbformat": 4,
  "nbformat_minor": 0,
  "metadata": {
    "kernelspec": {
      "display_name": "Python 3",
      "language": "python",
      "name": "python3"
    },
    "language_info": {
      "codemirror_mode": {
        "name": "ipython",
        "version": 3
      },
      "file_extension": ".py",
      "mimetype": "text/x-python",
      "name": "python",
      "nbconvert_exporter": "python",
      "pygments_lexer": "ipython3",
      "version": "3.6.5"
    },
    "colab": {
      "name": "03_pandas.ipynb",
      "provenance": [],
      "collapsed_sections": [],
      "include_colab_link": true
    }
  },
  "cells": [
    {
      "cell_type": "markdown",
      "metadata": {
        "id": "view-in-github",
        "colab_type": "text"
      },
      "source": [
        "<a href=\"https://colab.research.google.com/github/jade-lam/Springboard-DSC/blob/master/03_pandas.ipynb\" target=\"_parent\"><img src=\"https://colab.research.google.com/assets/colab-badge.svg\" alt=\"Open In Colab\"/></a>"
      ]
    },
    {
      "cell_type": "markdown",
      "metadata": {
        "id": "RwY8S9q4B0MA",
        "colab_type": "text"
      },
      "source": [
        "# pandas\n",
        "Here we will have a quick play with a pandas DataFrame and use what we've learned about accessing them to answer some questions.\n",
        "\n",
        "We stopped ten people in the street and asked them what pets they have. We also recorded the person's sex and age."
      ]
    },
    {
      "cell_type": "code",
      "metadata": {
        "id": "CieA3OxRB0MC",
        "colab_type": "code",
        "colab": {}
      },
      "source": [
        "import numpy as np\n",
        "import pandas as pd"
      ],
      "execution_count": 35,
      "outputs": []
    },
    {
      "cell_type": "code",
      "metadata": {
        "id": "niem3EzzB0MK",
        "colab_type": "code",
        "colab": {}
      },
      "source": [
        "pets = pd.DataFrame({'sex': np.array(['M', 'M', 'F', 'M', 'F', 'F', 'F', 'M', 'F', 'M']),\n",
        "                   'age': np.array([21, 45, 23, 56, 47, 70, 34, 30, 19, 62]),\n",
        "                   'pets': np.array([['cat', 'dog'],\n",
        "                                    ['hamster'],\n",
        "                                    ['cat', 'gerbil'],\n",
        "                                    ['fish', 'hamster', 'gerbil'],\n",
        "                                    ['cat'],\n",
        "                                    ['dog'],\n",
        "                                    ['dog'],\n",
        "                                    ['cat'],\n",
        "                                    ['rabbit', 'cat'],\n",
        "                                    ['dog']])})"
      ],
      "execution_count": 36,
      "outputs": []
    },
    {
      "cell_type": "markdown",
      "metadata": {
        "id": "KuD9mTjNB0MP",
        "colab_type": "text"
      },
      "source": [
        "We have been asked to analyse the survey responses. In particular, we have been given the questions\n",
        "\n",
        "* What sex was the youngest respondent?\n",
        "* What age was the person with the most pets?\n",
        "* What was the most popular pet?\n",
        "* What was the average age of dog owners?\n"
      ]
    },
    {
      "cell_type": "markdown",
      "metadata": {
        "id": "-LxIaKaBB0MQ",
        "colab_type": "text"
      },
      "source": [
        "Firstly, let's just look at the data. It's not very big so we don't actually even need to use head()."
      ]
    },
    {
      "cell_type": "code",
      "metadata": {
        "id": "tjsLXIi9B0MR",
        "colab_type": "code",
        "colab": {
          "base_uri": "https://localhost:8080/",
          "height": 202
        },
        "outputId": "1776158b-2904-47b3-a5ca-fe6798db12c7"
      },
      "source": [
        "pets.head()"
      ],
      "execution_count": 37,
      "outputs": [
        {
          "output_type": "execute_result",
          "data": {
            "text/html": [
              "<div>\n",
              "<style scoped>\n",
              "    .dataframe tbody tr th:only-of-type {\n",
              "        vertical-align: middle;\n",
              "    }\n",
              "\n",
              "    .dataframe tbody tr th {\n",
              "        vertical-align: top;\n",
              "    }\n",
              "\n",
              "    .dataframe thead th {\n",
              "        text-align: right;\n",
              "    }\n",
              "</style>\n",
              "<table border=\"1\" class=\"dataframe\">\n",
              "  <thead>\n",
              "    <tr style=\"text-align: right;\">\n",
              "      <th></th>\n",
              "      <th>sex</th>\n",
              "      <th>age</th>\n",
              "      <th>pets</th>\n",
              "    </tr>\n",
              "  </thead>\n",
              "  <tbody>\n",
              "    <tr>\n",
              "      <th>0</th>\n",
              "      <td>M</td>\n",
              "      <td>21</td>\n",
              "      <td>[cat, dog]</td>\n",
              "    </tr>\n",
              "    <tr>\n",
              "      <th>1</th>\n",
              "      <td>M</td>\n",
              "      <td>45</td>\n",
              "      <td>[hamster]</td>\n",
              "    </tr>\n",
              "    <tr>\n",
              "      <th>2</th>\n",
              "      <td>F</td>\n",
              "      <td>23</td>\n",
              "      <td>[cat, gerbil]</td>\n",
              "    </tr>\n",
              "    <tr>\n",
              "      <th>3</th>\n",
              "      <td>M</td>\n",
              "      <td>56</td>\n",
              "      <td>[fish, hamster, gerbil]</td>\n",
              "    </tr>\n",
              "    <tr>\n",
              "      <th>4</th>\n",
              "      <td>F</td>\n",
              "      <td>47</td>\n",
              "      <td>[cat]</td>\n",
              "    </tr>\n",
              "  </tbody>\n",
              "</table>\n",
              "</div>"
            ],
            "text/plain": [
              "  sex  age                     pets\n",
              "0   M   21               [cat, dog]\n",
              "1   M   45                [hamster]\n",
              "2   F   23            [cat, gerbil]\n",
              "3   M   56  [fish, hamster, gerbil]\n",
              "4   F   47                    [cat]"
            ]
          },
          "metadata": {
            "tags": []
          },
          "execution_count": 37
        }
      ]
    },
    {
      "cell_type": "markdown",
      "metadata": {
        "id": "FS_vM7FBB0MX",
        "colab_type": "text"
      },
      "source": [
        "Notice here, as well, how the notebook has a nice default presentation for DataFrames. And, yes, you can customize this! We won't be going into that here."
      ]
    },
    {
      "cell_type": "markdown",
      "metadata": {
        "id": "7z95lvgOB0MY",
        "colab_type": "text"
      },
      "source": [
        "## What sex was the youngest respondent?\n",
        "Hint, you might find the .loc accessor useful here. Think about breaking this task down into creating a boolean index that is True where the value in the age column is equal to the minimum of the age column. Then select the sex column."
      ]
    },
    {
      "cell_type": "code",
      "metadata": {
        "id": "rmZTlLqOB0Mb",
        "colab_type": "code",
        "colab": {
          "base_uri": "https://localhost:8080/",
          "height": 35
        },
        "outputId": "dba4be86-2651-4260-cae2-f3fcf53aacf4"
      },
      "source": [
        "# one line of code\n",
        "pets['sex'].loc[pets['age'].idxmin()]"
      ],
      "execution_count": 38,
      "outputs": [
        {
          "output_type": "execute_result",
          "data": {
            "application/vnd.google.colaboratory.intrinsic+json": {
              "type": "string"
            },
            "text/plain": [
              "'F'"
            ]
          },
          "metadata": {
            "tags": []
          },
          "execution_count": 38
        }
      ]
    },
    {
      "cell_type": "markdown",
      "metadata": {
        "id": "usnT2p44B0Mm",
        "colab_type": "text"
      },
      "source": [
        "We see that the youngest respondent was female (F)"
      ]
    },
    {
      "cell_type": "markdown",
      "metadata": {
        "id": "TxjVQg_RB0Mn",
        "colab_type": "text"
      },
      "source": [
        "## What age was the person with the most pets?\n",
        "Hint, you may find _apply_ ing len as a lambda function to the pets column useful here. Remember that calling len on the pets column will just return the length of the series, which is the number of rows in the DataFrame. In fact, adding useful features to your data is a very common thing in data science, so go ahead and create a new column in our pets DataFrame and call it 'num_pets'."
      ]
    },
    {
      "cell_type": "code",
      "metadata": {
        "id": "fl9sFHoyB0Mq",
        "colab_type": "code",
        "colab": {}
      },
      "source": [
        "# task: create new column 'num_pets' which contains the number of pets\n",
        "# each person had (hint: this is the length of each list in the pets column)\n",
        "# one line of code here:\n",
        "pets['num_pets'] = pets['pets'].str.len()"
      ],
      "execution_count": 39,
      "outputs": []
    },
    {
      "cell_type": "code",
      "metadata": {
        "id": "1o_qkFcFB0M0",
        "colab_type": "code",
        "colab": {
          "base_uri": "https://localhost:8080/",
          "height": 202
        },
        "outputId": "035033c9-2273-4329-d055-8f70a75e0e8f"
      },
      "source": [
        "# view the DataFrame again to check our new column is there\n",
        "pets.head()"
      ],
      "execution_count": 40,
      "outputs": [
        {
          "output_type": "execute_result",
          "data": {
            "text/html": [
              "<div>\n",
              "<style scoped>\n",
              "    .dataframe tbody tr th:only-of-type {\n",
              "        vertical-align: middle;\n",
              "    }\n",
              "\n",
              "    .dataframe tbody tr th {\n",
              "        vertical-align: top;\n",
              "    }\n",
              "\n",
              "    .dataframe thead th {\n",
              "        text-align: right;\n",
              "    }\n",
              "</style>\n",
              "<table border=\"1\" class=\"dataframe\">\n",
              "  <thead>\n",
              "    <tr style=\"text-align: right;\">\n",
              "      <th></th>\n",
              "      <th>sex</th>\n",
              "      <th>age</th>\n",
              "      <th>pets</th>\n",
              "      <th>num_pets</th>\n",
              "    </tr>\n",
              "  </thead>\n",
              "  <tbody>\n",
              "    <tr>\n",
              "      <th>0</th>\n",
              "      <td>M</td>\n",
              "      <td>21</td>\n",
              "      <td>[cat, dog]</td>\n",
              "      <td>2</td>\n",
              "    </tr>\n",
              "    <tr>\n",
              "      <th>1</th>\n",
              "      <td>M</td>\n",
              "      <td>45</td>\n",
              "      <td>[hamster]</td>\n",
              "      <td>1</td>\n",
              "    </tr>\n",
              "    <tr>\n",
              "      <th>2</th>\n",
              "      <td>F</td>\n",
              "      <td>23</td>\n",
              "      <td>[cat, gerbil]</td>\n",
              "      <td>2</td>\n",
              "    </tr>\n",
              "    <tr>\n",
              "      <th>3</th>\n",
              "      <td>M</td>\n",
              "      <td>56</td>\n",
              "      <td>[fish, hamster, gerbil]</td>\n",
              "      <td>3</td>\n",
              "    </tr>\n",
              "    <tr>\n",
              "      <th>4</th>\n",
              "      <td>F</td>\n",
              "      <td>47</td>\n",
              "      <td>[cat]</td>\n",
              "      <td>1</td>\n",
              "    </tr>\n",
              "  </tbody>\n",
              "</table>\n",
              "</div>"
            ],
            "text/plain": [
              "  sex  age                     pets  num_pets\n",
              "0   M   21               [cat, dog]         2\n",
              "1   M   45                [hamster]         1\n",
              "2   F   23            [cat, gerbil]         2\n",
              "3   M   56  [fish, hamster, gerbil]         3\n",
              "4   F   47                    [cat]         1"
            ]
          },
          "metadata": {
            "tags": []
          },
          "execution_count": 40
        }
      ]
    },
    {
      "cell_type": "code",
      "metadata": {
        "id": "j0P-MqpUB0ND",
        "colab_type": "code",
        "colab": {
          "base_uri": "https://localhost:8080/",
          "height": 52
        },
        "outputId": "54bbb9fa-c693-4ef0-9c70-a45d79355eb7"
      },
      "source": [
        "pets.loc[pets['num_pets'] == max(pets['num_pets']), 'age']"
      ],
      "execution_count": 41,
      "outputs": [
        {
          "output_type": "execute_result",
          "data": {
            "text/plain": [
              "3    56\n",
              "Name: age, dtype: int64"
            ]
          },
          "metadata": {
            "tags": []
          },
          "execution_count": 41
        }
      ]
    },
    {
      "cell_type": "markdown",
      "metadata": {
        "id": "cF1LN4PMB0NJ",
        "colab_type": "text"
      },
      "source": [
        "So we see the person with the most pets was 56 years old."
      ]
    },
    {
      "cell_type": "markdown",
      "metadata": {
        "id": "vAL7hse2B0NJ",
        "colab_type": "text"
      },
      "source": [
        "## What was the most popular pet?\n",
        "This is a very interesting question, given the data, because the data are arranged by respondent, not by pet. We need to _get into_ the pets column now in order to count each type of animal. To do this, we could perform a list comprehension and iterate over each list element for each Series element. But here we're going to give you a handy way to convert that Series of lists into a (longer) Series. The reason for this is to end up with another Series, which means we still have access to the powerful methods available from pandas."
      ]
    },
    {
      "cell_type": "code",
      "metadata": {
        "id": "Wa15Mt9nB0NO",
        "colab_type": "code",
        "colab": {
          "base_uri": "https://localhost:8080/",
          "height": 295
        },
        "outputId": "53ba42ec-e8a9-4bb7-fbd1-fbb8224136ec"
      },
      "source": [
        "pet_series = pets['pets'].apply(pd.Series).stack().reset_index(drop=True)\n",
        "pet_series"
      ],
      "execution_count": 42,
      "outputs": [
        {
          "output_type": "execute_result",
          "data": {
            "text/plain": [
              "0         cat\n",
              "1         dog\n",
              "2     hamster\n",
              "3         cat\n",
              "4      gerbil\n",
              "5        fish\n",
              "6     hamster\n",
              "7      gerbil\n",
              "8         cat\n",
              "9         dog\n",
              "10        dog\n",
              "11        cat\n",
              "12     rabbit\n",
              "13        cat\n",
              "14        dog\n",
              "dtype: object"
            ]
          },
          "metadata": {
            "tags": []
          },
          "execution_count": 42
        }
      ]
    },
    {
      "cell_type": "code",
      "metadata": {
        "id": "cxqsrtC9B0NX",
        "colab_type": "code",
        "colab": {
          "base_uri": "https://localhost:8080/",
          "height": 139
        },
        "outputId": "f3433ce4-dec6-41a6-ea19-f26ffcf12918"
      },
      "source": [
        "# task: produce an ordered count of each animal\n",
        "# one line of code here:\n",
        "pet_series.value_counts()"
      ],
      "execution_count": 43,
      "outputs": [
        {
          "output_type": "execute_result",
          "data": {
            "text/plain": [
              "cat        5\n",
              "dog        4\n",
              "hamster    2\n",
              "gerbil     2\n",
              "fish       1\n",
              "rabbit     1\n",
              "dtype: int64"
            ]
          },
          "metadata": {
            "tags": []
          },
          "execution_count": 43
        }
      ]
    },
    {
      "cell_type": "markdown",
      "metadata": {
        "id": "tURihu9vB0Nn",
        "colab_type": "text"
      },
      "source": [
        "Cat is the most popular pet."
      ]
    },
    {
      "cell_type": "markdown",
      "metadata": {
        "id": "t4OX_XJMB0Np",
        "colab_type": "text"
      },
      "source": [
        "Note we could also have approached this task by iterating over the original pets column and collecting the animal as the key and the count as the value, but even this requires more explicit iterating and count incrementing, and we still need to iterate over the final result to find the maximum count. With our approach here, we can easily read the most popular pet animal from the top of the result."
      ]
    },
    {
      "cell_type": "markdown",
      "metadata": {
        "id": "3n-C1wr6B0Nr",
        "colab_type": "text"
      },
      "source": [
        "## What was the average age of dog owners?\n",
        "Hint, again here you may find it useful to use a lambda function to create a boolean index which is True if a respondent said they had a dog and False otherwise."
      ]
    },
    {
      "cell_type": "code",
      "metadata": {
        "id": "bDgwqNu1B0Nx",
        "colab_type": "code",
        "colab": {
          "base_uri": "https://localhost:8080/",
          "height": 35
        },
        "outputId": "c69fc380-2a50-45f4-b09e-a66da5174a2b"
      },
      "source": [
        "# example\n",
        "('dog' in ['dog', 'cat'], 'dog' in ['rabbit'])"
      ],
      "execution_count": 44,
      "outputs": [
        {
          "output_type": "execute_result",
          "data": {
            "text/plain": [
              "(True, False)"
            ]
          },
          "metadata": {
            "tags": []
          },
          "execution_count": 44
        }
      ]
    },
    {
      "cell_type": "code",
      "metadata": {
        "id": "u9_PjujrB0N4",
        "colab_type": "code",
        "colab": {
          "base_uri": "https://localhost:8080/",
          "height": 35
        },
        "outputId": "f5b6d6b2-4a06-41ab-81bc-a825a1463687"
      },
      "source": [
        "# task: use a lambda function to test whether 'dog' is contained in each list of animals,\n",
        "# extract the age column and then chain the mean method to calculate the average age.\n",
        "# one line of code here:\n",
        "\n",
        "pets['age'][pets['pets'].apply(lambda x: 'dog' in x) == True].mean()\n"
      ],
      "execution_count": 45,
      "outputs": [
        {
          "output_type": "execute_result",
          "data": {
            "text/plain": [
              "46.75"
            ]
          },
          "metadata": {
            "tags": []
          },
          "execution_count": 45
        }
      ]
    },
    {
      "cell_type": "markdown",
      "metadata": {
        "id": "qXJsF15pB0OD",
        "colab_type": "text"
      },
      "source": [
        "# Conclusion\n",
        "You've now seen how pandas holds tabular data, where each column can be a different type (e.g. sex is character and age is a number). Furthermore, pandas provides incredibly powerful methods for slicing and dicing the data to answer some very interesting questions using relatively little code. You're well on your journey to becoming a data ninja!"
      ]
    }
  ]
}